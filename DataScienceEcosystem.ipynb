{
 "cells": [
  {
   "cell_type": "markdown",
   "id": "ac5f484a-b2fd-47d2-bcc8-e62d3199ae6b",
   "metadata": {},
   "source": [
    "# DataScience Tools and Ecosystem"
   ]
  },
  {
   "cell_type": "markdown",
   "id": "934e1eb1-66c7-4642-b0b9-1d70ce7ec653",
   "metadata": {},
   "source": [
    "In this notebook, Data Science Tools and Ecosystem are summarized."
   ]
  },
  {
   "cell_type": "markdown",
   "id": "51723fb0-f2fe-4e29-ab11-b6e8b9ec665b",
   "metadata": {},
   "source": [
    "Some of the popular languages that data scientists use include:\n",
    "1. Python\n",
    "2. R\n",
    "3. SQL\n"
   ]
  },
  {
   "cell_type": "markdown",
   "id": "6bf2a8f6-6638-4e62-b648-352f58cad4d1",
   "metadata": {},
   "source": [
    "Some of the commonly used libraries used by Data Scientists include:\n",
    "1. Numpy\n",
    "2. Pandas\n",
    "3. Matplotlib\n",
    "4. Seaborn\n",
    "5. Scikit Learn\n",
    "6. Tensor Flow"
   ]
  },
  {
   "cell_type": "markdown",
   "id": "0aa5da91-0dfc-4e45-837e-13d1c93d5892",
   "metadata": {},
   "source": [
    "# Data Science Tools\n",
    "1. Jupyter Notebook\n",
    "2. R studio\n",
    "3. Appache Zeppelin"
   ]
  },
  {
   "cell_type": "markdown",
   "id": "f046a440-fb23-41a9-8fc0-078df775678b",
   "metadata": {},
   "source": [
    "### Below are a few examples of evaluating arithmetic expressions in Python.\n"
   ]
  },
  {
   "cell_type": "code",
   "execution_count": 1,
   "id": "695ded1e-814e-486a-9788-1ae7ea8f5796",
   "metadata": {},
   "outputs": [
    {
     "data": {
      "text/plain": [
       "17"
      ]
     },
     "execution_count": 1,
     "metadata": {},
     "output_type": "execute_result"
    }
   ],
   "source": [
    "# This is a simple arithmetic expression to multiply then add integers\n",
    "(3 * 4) + 5\n"
   ]
  },
  {
   "cell_type": "code",
   "execution_count": 2,
   "id": "e4680c5b-9453-42a9-858f-6c18c7e12950",
   "metadata": {},
   "outputs": [
    {
     "data": {
      "text/plain": [
       "3.3333333333333335"
      ]
     },
     "execution_count": 2,
     "metadata": {},
     "output_type": "execute_result"
    }
   ],
   "source": [
    "# This will convert 200 minutes to hours by dividing by 60\n",
    "200 / 60\n"
   ]
  },
  {
   "cell_type": "markdown",
   "id": "5b03d72e-8ace-46a9-84a8-849e9db46882",
   "metadata": {},
   "source": [
    "**Objectives:**\n",
    "\n",
    "- List popular languages for Data Science  \n",
    "- Identify commonly used libraries in Data Science  \n",
    "- Understand basic arithmetic expressions in Python  \n",
    "- Demonstrate how to use Jupyter Notebook effectively  \n"
   ]
  },
  {
   "cell_type": "code",
   "execution_count": null,
   "id": "79cbc713-94cd-4321-878a-d8f60144901f",
   "metadata": {},
   "outputs": [],
   "source": [
    "## Author\n",
    "\n",
    "Rayya"
   ]
  }
 ],
 "metadata": {
  "kernelspec": {
   "display_name": "Python [conda env:RP_ENV]",
   "language": "python",
   "name": "conda-env-RP_ENV-py"
  },
  "language_info": {
   "codemirror_mode": {
    "name": "ipython",
    "version": 3
   },
   "file_extension": ".py",
   "mimetype": "text/x-python",
   "name": "python",
   "nbconvert_exporter": "python",
   "pygments_lexer": "ipython3",
   "version": "3.12.11"
  }
 },
 "nbformat": 4,
 "nbformat_minor": 5
}
